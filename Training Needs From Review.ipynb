{
 "cells": [
  {
   "cell_type": "code",
   "execution_count": null,
   "metadata": {},
   "outputs": [],
   "source": [
    "# Installing the packages needed for building the code.\n",
    "\n",
    "!python.exe -m pip install --upgrade pip\n",
    "%pip install -q -f -U torch torchvision torchaudio --index-url https://download.pytorch.org/whl/cu117\n",
    "%pip install -q -f -U transformers\n",
    "%pip install -q -f -U langchain\n",
    "%pip install -q -f -U accelerate\n",
    "%pip install -q -f -U sentencepiece\n",
    "%pip install -q -f -U tiktoken\n",
    "%pip install -q -f -U sentence_transformers\n",
    "%pip install -q -f -U pandas\n",
    "%pip install -q -f -U tabulate"
   ]
  },
  {
   "cell_type": "markdown",
   "metadata": {},
   "source": [
    "# This code creates the environment for Langchain to use your local LLM as a Chat Model"
   ]
  },
  {
   "cell_type": "code",
   "execution_count": null,
   "metadata": {},
   "outputs": [],
   "source": [
    "import torch\n",
    "from transformers import LlamaTokenizer, LlamaForCausalLM\n",
    "from langchain.chat_models.base import BaseChatModel\n",
    "from langchain.schema import BaseMessage, AIMessage, HumanMessage, SystemMessage, ChatResult, ChatGeneration\n",
    "from typing import Optional, List\n",
    "import pandas as pd"
   ]
  },
  {
   "cell_type": "code",
   "execution_count": null,
   "metadata": {},
   "outputs": [],
   "source": [
    "class LocalChatModel(BaseChatModel):\n",
    "    tokenizer: LlamaTokenizer\n",
    "    model: LlamaForCausalLM\n",
    "    device: str\n",
    "    other_kwargs: dict\n",
    "\n",
    "    def get_prompt(self, messages: List[BaseMessage])->str:\n",
    "        prompt = []\n",
    "        for message in messages:\n",
    "            if isinstance(message, SystemMessage):\n",
    "                prepend = \"SYSTEM: \"\n",
    "            elif isinstance(message, HumanMessage):\n",
    "                prepend = \"USER: \"\n",
    "            elif isinstance(message, AIMessage):\n",
    "                prepend = \"ASSISTANT: \"\n",
    "            prompt.append(prepend + message.content)\n",
    "        prompt.append(\"ASSISTANT: \")\n",
    "        return \"\\n\".join(prompt)\n",
    "\n",
    "\n",
    "\n",
    "    def _generate(self, messages: List[BaseMessage], stop: Optional[List[str]]=None)->ChatResult: # type: ignore\n",
    "        # print(messages)\n",
    "        prompt = self.get_prompt(messages)\n",
    "        # print(prompt)\n",
    "        inputs = self.tokenizer(prompt, return_tensors='pt') # type: ignore\n",
    "\n",
    "        outputs = self.model.generate(inputs.input_ids.to(self.device), **self.other_kwargs) # type: ignore\n",
    "        generated_text = self.tokenizer.batch_decode(outputs[:, inputs.input_ids.shape[1]:], skip_special_tokens=True)[0] # type: ignore\n",
    "        ai_message = AIMessage(content=generated_text.strip())\n",
    "        chat_result = ChatResult(generations=[ChatGeneration(message=ai_message)])\n",
    "        #print(chat_result)\n",
    "        return chat_result\n",
    "\n",
    "    def _agenerate(self):\n",
    "        pass\n",
    "    \n",
    "    def _llm_type(self):\n",
    "        pass\n"
   ]
  },
  {
   "cell_type": "code",
   "execution_count": null,
   "metadata": {},
   "outputs": [],
   "source": [
    "model_path = \"./models/Llama-2-7b-chat-hf\" # You will need to download and place the model files in the working directory / models / Llama-2-7b-chat-hf folder"
   ]
  },
  {
   "cell_type": "code",
   "execution_count": null,
   "metadata": {},
   "outputs": [],
   "source": [
    "tokenizer = LlamaTokenizer.from_pretrained(model_path)"
   ]
  },
  {
   "cell_type": "code",
   "execution_count": null,
   "metadata": {},
   "outputs": [],
   "source": [
    "model = LlamaForCausalLM.from_pretrained(\n",
    "    model_path,\n",
    "    low_cpu_mem_usage=True,\n",
    "    torch_dtype=torch.float16,\n",
    "    device_map='auto',\n",
    "    local_files_only=True\n",
    ")"
   ]
  },
  {
   "cell_type": "code",
   "execution_count": null,
   "metadata": {},
   "outputs": [],
   "source": [
    "device = 'cuda' if torch.cuda.is_available() else 'cpu'\n",
    "model = model.to(device) # type: ignore"
   ]
  },
  {
   "cell_type": "code",
   "execution_count": null,
   "metadata": {},
   "outputs": [],
   "source": [
    "# Sample code to check if the LLM is working\n",
    "\n",
    "chat = LocalChatModel(tokenizer=tokenizer, model=model, device=device, other_kwargs=dict(max_new_tokens=512))\n",
    "response = chat([\n",
    "    SystemMessage(content=\"You are a helpful assistant that specializes in Python code. Once answer is given, do not add another USER query.\"),\n",
    "    HumanMessage(content=\"Program that prints hello world.\")\n",
    "]).content"
   ]
  },
  {
   "cell_type": "code",
   "execution_count": null,
   "metadata": {},
   "outputs": [],
   "source": [
    "print(response)"
   ]
  },
  {
   "cell_type": "markdown",
   "metadata": {},
   "source": [
    "# From here begins the process of loading the csv to Chroma DB\n",
    "## For this section, I found the below link very helpful\n",
    "### https://towardsai.net/p/machine-learning/query-your-dataframes-with-powerful-large-language-models-using-langchain"
   ]
  },
  {
   "cell_type": "code",
   "execution_count": null,
   "metadata": {},
   "outputs": [],
   "source": [
    "df = pd.read_csv('employee_reviews.csv')"
   ]
  },
  {
   "cell_type": "code",
   "execution_count": null,
   "metadata": {},
   "outputs": [],
   "source": [
    "df.head()"
   ]
  },
  {
   "cell_type": "code",
   "execution_count": null,
   "metadata": {},
   "outputs": [],
   "source": [
    "df['Merged Column'] = \"Feedback for the employee in department of \" + df['Department'] + \". It's strengths are \" + df['Strengths'] + \". These are the weaknesses, \" + df['Weaknesses'] + '. Apart from this, here are some training needs ' + df['Training Needs']"
   ]
  },
  {
   "cell_type": "code",
   "execution_count": null,
   "metadata": {},
   "outputs": [],
   "source": [
    "print(df['Merged Column'][3])"
   ]
  },
  {
   "cell_type": "code",
   "execution_count": null,
   "metadata": {},
   "outputs": [],
   "source": [
    "from langchain.document_loaders import DataFrameLoader"
   ]
  },
  {
   "cell_type": "code",
   "execution_count": null,
   "metadata": {},
   "outputs": [],
   "source": [
    "from langchain.vectorstores import Chroma"
   ]
  },
  {
   "cell_type": "code",
   "execution_count": null,
   "metadata": {},
   "outputs": [],
   "source": [
    "df_loader = DataFrameLoader(df, page_content_column='Merged Column')"
   ]
  },
  {
   "cell_type": "code",
   "execution_count": null,
   "metadata": {},
   "outputs": [],
   "source": [
    "df_document = df_loader.load()\n",
    "display(df_document)"
   ]
  },
  {
   "cell_type": "code",
   "execution_count": null,
   "metadata": {},
   "outputs": [],
   "source": [
    "from langchain.text_splitter import CharacterTextSplitter\n",
    "from langchain.embeddings import HuggingFaceEmbeddings\n"
   ]
  },
  {
   "cell_type": "code",
   "execution_count": null,
   "metadata": {},
   "outputs": [],
   "source": [
    "text_splitter = CharacterTextSplitter(chunk_size=200, chunk_overlap=10)\n",
    "texts = text_splitter.split_documents(df_document)"
   ]
  },
  {
   "cell_type": "code",
   "execution_count": null,
   "metadata": {},
   "outputs": [],
   "source": [
    "embedding_function = HuggingFaceEmbeddings(model_name=\"sentence-transformers/all-MiniLM-L6-v2\")"
   ]
  },
  {
   "cell_type": "code",
   "execution_count": null,
   "metadata": {},
   "outputs": [],
   "source": [
    "chromadb_index = Chroma.from_documents(\n",
    " texts, embedding_function, persist_directory='./input'\n",
    ")"
   ]
  },
  {
   "cell_type": "markdown",
   "metadata": {},
   "source": [
    "# From here we start querying the data"
   ]
  },
  {
   "cell_type": "code",
   "execution_count": null,
   "metadata": {},
   "outputs": [],
   "source": [
    "from langchain.chains import RetrievalQA\n",
    "from langchain.llms import HuggingFacePipeline"
   ]
  },
  {
   "cell_type": "code",
   "execution_count": null,
   "metadata": {},
   "outputs": [],
   "source": [
    "retriever = chromadb_index.as_retriever()"
   ]
  },
  {
   "cell_type": "code",
   "execution_count": null,
   "metadata": {},
   "outputs": [],
   "source": [
    "document_qa = RetrievalQA.from_chain_type(\n",
    " llm=chat, chain_type=\"stuff\", retriever=retriever\n",
    ")"
   ]
  },
  {
   "cell_type": "code",
   "execution_count": null,
   "metadata": {},
   "outputs": [],
   "source": [
    "response = document_qa.run(\"What training needs are needed for people in Admin?\")"
   ]
  },
  {
   "cell_type": "code",
   "execution_count": null,
   "metadata": {},
   "outputs": [],
   "source": [
    "print(response)"
   ]
  },
  {
   "cell_type": "markdown",
   "metadata": {},
   "source": [
    "# As you can see I start getting results but the quality still needs improvement so trying a QA Chain instead"
   ]
  },
  {
   "cell_type": "code",
   "execution_count": null,
   "metadata": {},
   "outputs": [],
   "source": [
    "# create the chain to answer questions\n",
    "qa_chain = RetrievalQA.from_chain_type(llm=chat,\n",
    "                                  chain_type=\"stuff\",\n",
    "                                  retriever=retriever,\n",
    "                                  return_source_documents=True,\n",
    "                                  verbose=True)"
   ]
  },
  {
   "cell_type": "code",
   "execution_count": null,
   "metadata": {},
   "outputs": [],
   "source": [
    "query = \"What are the training needs for operations?\"\n",
    "llm_response = qa_chain(query)\n"
   ]
  },
  {
   "cell_type": "code",
   "execution_count": null,
   "metadata": {},
   "outputs": [],
   "source": [
    "print(llm_response['result'])"
   ]
  },
  {
   "cell_type": "markdown",
   "metadata": {},
   "source": [
    "# This code is still not perfect but I feel it's in the right direction.\n",
    "# Happy to get inputs from my peers here if there's a better way to approach this."
   ]
  }
 ],
 "metadata": {
  "kernelspec": {
   "display_name": "langchain",
   "language": "python",
   "name": "python3"
  },
  "language_info": {
   "codemirror_mode": {
    "name": "ipython",
    "version": 3
   },
   "file_extension": ".py",
   "mimetype": "text/x-python",
   "name": "python",
   "nbconvert_exporter": "python",
   "pygments_lexer": "ipython3",
   "version": "3.11.3"
  },
  "orig_nbformat": 4
 },
 "nbformat": 4,
 "nbformat_minor": 2
}
